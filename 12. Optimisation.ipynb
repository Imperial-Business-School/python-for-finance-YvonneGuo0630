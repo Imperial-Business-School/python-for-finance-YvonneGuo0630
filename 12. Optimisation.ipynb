{
 "cells": [
  {
   "attachments": {},
   "cell_type": "markdown",
   "metadata": {},
   "source": [
    "# Portfolio Optimisation\n",
    "\n",
    "A 1/N portfolio with equal weights is amongst portfolio formation strategies like naive diversification, where we select assets because they differ in kind, industry or something else. With this strategy we don't look closely at return or risk, but rather depend on the diversity of our assets.\n",
    "\n",
    "Other formation strategies do analyse return and risk, and attempt to optimise weights based on some criteria. Portfolio optimisation involves determining the best allocation of our assets to achieve some specific investment objective. Let's optimise our portfolio weights and see what it can do!\n"
   ]
  },
  {
   "cell_type": "code",
   "execution_count": 1,
   "metadata": {},
   "outputs": [],
   "source": [
    "import pandas as pd\n",
    "import numpy as np\n",
    "import matplotlib.pyplot as plt\n",
    "from scipy.optimize import minimize\n",
    "\n",
    "plt.style.use(\"ggplot\")\n",
    "\n",
    "RFR = 0.0441\n",
    "TRADING_DAYS = 252"
   ]
  },
  {
   "attachments": {},
   "cell_type": "markdown",
   "metadata": {},
   "source": [
    "Above we've got our imports, settings and a constant, and below we've got our data frame being created and checked. We're also selecting the 5 stocks of our portfolio again."
   ]
  },
  {
   "cell_type": "code",
   "execution_count": 2,
   "metadata": {},
   "outputs": [
    {
     "data": {
      "application/vnd.microsoft.datawrangler.viewer.v0+json": {
       "columns": [
        {
         "name": "DlyCalDt",
         "rawType": "datetime64[ns]",
         "type": "datetime"
        },
        {
         "name": "AAPL",
         "rawType": "float64",
         "type": "float"
        },
        {
         "name": "AMZN",
         "rawType": "float64",
         "type": "float"
        },
        {
         "name": "GOOGL",
         "rawType": "float64",
         "type": "float"
        },
        {
         "name": "META",
         "rawType": "float64",
         "type": "float"
        },
        {
         "name": "MSFT",
         "rawType": "float64",
         "type": "float"
        }
       ],
       "ref": "d24aac64-8151-4a66-b8c7-8f3ba013b511",
       "rows": [
        [
         "2020-01-02 00:00:00",
         "72.62083435058594",
         "94.90049743652344",
         "68.02601623535156",
         "208.7959442138672",
         "153.04232788085938"
        ],
        [
         "2020-01-03 00:00:00",
         "71.9148178100586",
         "93.74849700927734",
         "67.6701431274414",
         "207.69114685058597",
         "151.13665771484375"
        ],
        [
         "2020-01-06 00:00:00",
         "72.48783874511719",
         "95.1439971923828",
         "69.47384643554688",
         "211.60272216796875",
         "151.5272979736328"
        ],
        [
         "2020-01-07 00:00:00",
         "72.14692687988281",
         "95.34300231933594",
         "69.33964538574219",
         "212.060546875",
         "150.14573669433594"
        ],
        [
         "2020-01-08 00:00:00",
         "73.30750274658203",
         "94.59850311279295",
         "69.83318328857422",
         "214.21041870117188",
         "152.5372772216797"
        ],
        [
         "2020-01-09 00:00:00",
         "74.86463165283203",
         "95.05249786376952",
         "70.56629180908203",
         "217.27598571777344",
         "154.4429473876953"
        ],
        [
         "2020-01-10 00:00:00",
         "75.03388214111328",
         "94.15799713134766",
         "71.02205657958984",
         "217.037109375",
         "153.7283172607422"
        ],
        [
         "2020-01-13 00:00:00",
         "76.63692474365234",
         "94.56500244140624",
         "71.57225799560547",
         "220.8690490722656",
         "155.57679748535156"
        ],
        [
         "2020-01-14 00:00:00",
         "75.6020736694336",
         "93.47200012207033",
         "71.10308074951172",
         "218.03240966796875",
         "154.4810791015625"
        ],
        [
         "2020-01-15 00:00:00",
         "75.27809143066406",
         "93.10099792480467",
         "71.531005859375",
         "220.1125946044922",
         "155.48153686523438"
        ],
        [
         "2020-01-16 00:00:00",
         "76.22106170654297",
         "93.89700317382812",
         "72.07573699951172",
         "220.72970581054688",
         "158.33047485351562"
        ],
        [
         "2020-01-17 00:00:00",
         "77.06488037109375",
         "93.23600006103516",
         "73.53498077392578",
         "221.09796142578125",
         "159.21661376953125"
        ],
        [
         "2020-01-21 00:00:00",
         "76.5426254272461",
         "94.5999984741211",
         "73.6706771850586",
         "220.4012451171875",
         "158.64486694335938"
        ],
        [
         "2020-01-22 00:00:00",
         "76.81585693359375",
         "94.3730010986328",
         "73.75118255615234",
         "220.2818145751953",
         "157.88262939453125"
        ],
        [
         "2020-01-23 00:00:00",
         "77.18577575683594",
         "94.22899627685548",
         "73.79193878173828",
         "218.7291259765625",
         "158.85452270507812"
        ],
        [
         "2020-01-24 00:00:00",
         "76.96334075927734",
         "93.08200073242188",
         "72.87146759033203",
         "216.91766357421875",
         "157.25375366210938"
        ],
        [
         "2020-01-27 00:00:00",
         "74.70021057128906",
         "91.41699981689452",
         "71.15972900390625",
         "213.862060546875",
         "154.62400817871094"
        ],
        [
         "2020-01-28 00:00:00",
         "76.81343078613281",
         "92.6624984741211",
         "72.09263610839844",
         "216.76837158203125",
         "157.65396118164062"
        ],
        [
         "2020-01-29 00:00:00",
         "78.42131805419922",
         "92.9000015258789",
         "72.40079498291016",
         "222.18284606933597",
         "160.11224365234375"
        ],
        [
         "2020-01-30 00:00:00",
         "78.30767059326172",
         "93.53399658203124",
         "72.27901458740234",
         "208.547119140625",
         "164.62863159179688"
        ],
        [
         "2020-01-31 00:00:00",
         "74.83562469482422",
         "100.43599700927734",
         "71.2119140625",
         "200.9628753662109",
         "162.19891357421875"
        ],
        [
         "2020-02-03 00:00:00",
         "74.63008880615234",
         "100.20999908447266",
         "73.68806457519531",
         "203.232177734375",
         "166.15313720703125"
        ],
        [
         "2020-02-04 00:00:00",
         "77.09390258789062",
         "102.4834976196289",
         "71.83965301513672",
         "208.84571838378903",
         "171.62232971191406"
        ],
        [
         "2020-02-05 00:00:00",
         "77.72254943847656",
         "101.99349975585938",
         "71.87145233154297",
         "209.1243896484375",
         "171.41268920898438"
        ],
        [
         "2020-02-06 00:00:00",
         "78.63166046142578",
         "102.5114974975586",
         "73.35855865478516",
         "209.8609161376953",
         "174.9667510986328"
        ],
        [
         "2020-02-07 00:00:00",
         "77.56285095214844",
         "103.96399688720705",
         "73.51461029052734",
         "211.333984375",
         "175.2144775390625"
        ],
        [
         "2020-02-10 00:00:00",
         "77.93123626708984",
         "106.69550323486328",
         "74.9832992553711",
         "212.060546875",
         "179.79757690429688"
        ],
        [
         "2020-02-11 00:00:00",
         "77.4610595703125",
         "107.54000091552734",
         "75.05288696289062",
         "206.2180938720703",
         "175.73849487304688"
        ],
        [
         "2020-02-12 00:00:00",
         "79.30058288574219",
         "108.0",
         "75.47883605957031",
         "209.7713623046875",
         "175.99581909179688"
        ],
        [
         "2020-02-13 00:00:00",
         "78.73589324951172",
         "107.49349975585938",
         "75.21839141845703",
         "212.1401824951172",
         "175.04293823242188"
        ],
        [
         "2020-02-14 00:00:00",
         "78.7552719116211",
         "106.74349975585938",
         "75.48379516601562",
         "213.17529296875",
         "176.6055908203125"
        ],
        [
         "2020-02-18 00:00:00",
         "77.31322479248047",
         "107.78350067138672",
         "75.51908874511719",
         "216.7783203125",
         "178.3969268798828"
        ],
        [
         "2020-02-19 00:00:00",
         "78.43292236328125",
         "108.51100158691406",
         "75.7889633178711",
         "216.4697723388672",
         "178.9319305419922"
        ],
        [
         "2020-02-20 00:00:00",
         "77.6282958984375",
         "107.65499877929688",
         "75.3973159790039",
         "213.5734100341797",
         "176.19937133789062"
        ],
        [
         "2020-02-21 00:00:00",
         "75.87117767333984",
         "104.79850006103516",
         "73.7308120727539",
         "209.1940460205078",
         "170.6292724609375"
        ],
        [
         "2020-02-24 00:00:00",
         "72.26725769042969",
         "100.4645004272461",
         "70.56977081298828",
         "199.7784423828125",
         "163.2725372314453"
        ],
        [
         "2020-02-25 00:00:00",
         "69.81941223144531",
         "98.63700103759766",
         "68.90277099609375",
         "195.84698486328125",
         "160.57823181152344"
        ],
        [
         "2020-02-26 00:00:00",
         "70.92699432373047",
         "98.97949981689452",
         "69.1090316772461",
         "196.2749481201172",
         "162.58460998535156"
        ],
        [
         "2020-02-27 00:00:00",
         "66.29063415527344",
         "94.21499633789062",
         "65.35554504394531",
         "188.85989379882807",
         "151.12905883789062"
        ],
        [
         "2020-02-28 00:00:00",
         "66.25183868408203",
         "94.1875",
         "66.56329345703125",
         "191.5671539306641",
         "154.78836059570312"
        ],
        [
         "2020-03-02 00:00:00",
         "72.41996002197266",
         "97.69750213623048",
         "68.90277099609375",
         "195.51852416992188",
         "165.08782958984375"
        ],
        [
         "2020-03-03 00:00:00",
         "70.11993408203125",
         "95.44950103759766",
         "66.48725891113281",
         "185.0180206298828",
         "157.1769256591797"
        ],
        [
         "2020-03-04 00:00:00",
         "73.37242889404297",
         "98.79149627685548",
         "68.66816711425781",
         "190.86045837402344",
         "162.94766235351562"
        ],
        [
         "2020-03-05 00:00:00",
         "70.99243927001953",
         "96.20149993896484",
         "65.34610748291016",
         "184.30137634277344",
         "158.8584747314453"
        ],
        [
         "2020-03-06 00:00:00",
         "70.0496826171875",
         "95.05449676513672",
         "64.40076446533203",
         "180.24050903320312",
         "154.3679656982422"
        ],
        [
         "2020-03-09 00:00:00",
         "64.50928497314453",
         "90.03050231933594",
         "60.42710113525391",
         "168.70489501953125",
         "143.9060516357422"
        ],
        [
         "2020-03-10 00:00:00",
         "69.15533447265625",
         "94.59100341796876",
         "63.37839889526367",
         "177.35414123535156",
         "153.7469482421875"
        ],
        [
         "2020-03-11 00:00:00",
         "66.75355529785156",
         "91.04299926757812",
         "60.18405532836914",
         "169.44143676757812",
         "146.78192138671875"
        ],
        [
         "2020-03-12 00:00:00",
         "60.16131591796875",
         "83.83049774169922",
         "55.24617004394531",
         "153.74539184570312",
         "132.86131286621094"
        ],
        [
         "2020-03-13 00:00:00",
         "67.369140625",
         "89.25",
         "60.3515510559082",
         "169.48123168945312",
         "151.7500762939453"
        ]
       ],
       "shape": {
        "columns": 5,
        "rows": 1257
       }
      },
      "text/html": [
       "<div>\n",
       "<style scoped>\n",
       "    .dataframe tbody tr th:only-of-type {\n",
       "        vertical-align: middle;\n",
       "    }\n",
       "\n",
       "    .dataframe tbody tr th {\n",
       "        vertical-align: top;\n",
       "    }\n",
       "\n",
       "    .dataframe thead th {\n",
       "        text-align: right;\n",
       "    }\n",
       "</style>\n",
       "<table border=\"1\" class=\"dataframe\">\n",
       "  <thead>\n",
       "    <tr style=\"text-align: right;\">\n",
       "      <th>Ticker</th>\n",
       "      <th>AAPL</th>\n",
       "      <th>AMZN</th>\n",
       "      <th>GOOGL</th>\n",
       "      <th>META</th>\n",
       "      <th>MSFT</th>\n",
       "    </tr>\n",
       "    <tr>\n",
       "      <th>DlyCalDt</th>\n",
       "      <th></th>\n",
       "      <th></th>\n",
       "      <th></th>\n",
       "      <th></th>\n",
       "      <th></th>\n",
       "    </tr>\n",
       "  </thead>\n",
       "  <tbody>\n",
       "    <tr>\n",
       "      <th>2020-01-02</th>\n",
       "      <td>72.620834</td>\n",
       "      <td>94.900497</td>\n",
       "      <td>68.026016</td>\n",
       "      <td>208.795944</td>\n",
       "      <td>153.042328</td>\n",
       "    </tr>\n",
       "    <tr>\n",
       "      <th>2020-01-03</th>\n",
       "      <td>71.914818</td>\n",
       "      <td>93.748497</td>\n",
       "      <td>67.670143</td>\n",
       "      <td>207.691147</td>\n",
       "      <td>151.136658</td>\n",
       "    </tr>\n",
       "    <tr>\n",
       "      <th>2020-01-06</th>\n",
       "      <td>72.487839</td>\n",
       "      <td>95.143997</td>\n",
       "      <td>69.473846</td>\n",
       "      <td>211.602722</td>\n",
       "      <td>151.527298</td>\n",
       "    </tr>\n",
       "    <tr>\n",
       "      <th>2020-01-07</th>\n",
       "      <td>72.146927</td>\n",
       "      <td>95.343002</td>\n",
       "      <td>69.339645</td>\n",
       "      <td>212.060547</td>\n",
       "      <td>150.145737</td>\n",
       "    </tr>\n",
       "    <tr>\n",
       "      <th>2020-01-08</th>\n",
       "      <td>73.307503</td>\n",
       "      <td>94.598503</td>\n",
       "      <td>69.833183</td>\n",
       "      <td>214.210419</td>\n",
       "      <td>152.537277</td>\n",
       "    </tr>\n",
       "    <tr>\n",
       "      <th>...</th>\n",
       "      <td>...</td>\n",
       "      <td>...</td>\n",
       "      <td>...</td>\n",
       "      <td>...</td>\n",
       "      <td>...</td>\n",
       "    </tr>\n",
       "    <tr>\n",
       "      <th>2024-12-23</th>\n",
       "      <td>254.655716</td>\n",
       "      <td>225.059998</td>\n",
       "      <td>194.171051</td>\n",
       "      <td>599.316772</td>\n",
       "      <td>433.583038</td>\n",
       "    </tr>\n",
       "    <tr>\n",
       "      <th>2024-12-24</th>\n",
       "      <td>257.578674</td>\n",
       "      <td>229.050003</td>\n",
       "      <td>195.647552</td>\n",
       "      <td>607.209778</td>\n",
       "      <td>437.647369</td>\n",
       "    </tr>\n",
       "    <tr>\n",
       "      <th>2024-12-26</th>\n",
       "      <td>258.396667</td>\n",
       "      <td>227.050003</td>\n",
       "      <td>195.138763</td>\n",
       "      <td>602.813660</td>\n",
       "      <td>436.432068</td>\n",
       "    </tr>\n",
       "    <tr>\n",
       "      <th>2024-12-27</th>\n",
       "      <td>254.974930</td>\n",
       "      <td>223.750000</td>\n",
       "      <td>192.305450</td>\n",
       "      <td>599.276855</td>\n",
       "      <td>428.881104</td>\n",
       "    </tr>\n",
       "    <tr>\n",
       "      <th>2024-12-30</th>\n",
       "      <td>251.593079</td>\n",
       "      <td>221.300003</td>\n",
       "      <td>190.789032</td>\n",
       "      <td>590.714417</td>\n",
       "      <td>423.202911</td>\n",
       "    </tr>\n",
       "  </tbody>\n",
       "</table>\n",
       "<p>1257 rows × 5 columns</p>\n",
       "</div>"
      ],
      "text/plain": [
       "Ticker            AAPL        AMZN       GOOGL        META        MSFT\n",
       "DlyCalDt                                                              \n",
       "2020-01-02   72.620834   94.900497   68.026016  208.795944  153.042328\n",
       "2020-01-03   71.914818   93.748497   67.670143  207.691147  151.136658\n",
       "2020-01-06   72.487839   95.143997   69.473846  211.602722  151.527298\n",
       "2020-01-07   72.146927   95.343002   69.339645  212.060547  150.145737\n",
       "2020-01-08   73.307503   94.598503   69.833183  214.210419  152.537277\n",
       "...                ...         ...         ...         ...         ...\n",
       "2024-12-23  254.655716  225.059998  194.171051  599.316772  433.583038\n",
       "2024-12-24  257.578674  229.050003  195.647552  607.209778  437.647369\n",
       "2024-12-26  258.396667  227.050003  195.138763  602.813660  436.432068\n",
       "2024-12-27  254.974930  223.750000  192.305450  599.276855  428.881104\n",
       "2024-12-30  251.593079  221.300003  190.789032  590.714417  423.202911\n",
       "\n",
       "[1257 rows x 5 columns]"
      ]
     },
     "execution_count": 2,
     "metadata": {},
     "output_type": "execute_result"
    }
   ],
   "source": [
    "df = pd.read_csv(\"data/top_six_2020_2025.csv\")\n",
    "df.DlyCalDt = pd.to_datetime(df.DlyCalDt, dayfirst=True)\n",
    "\n",
    "df_pivot = df.pivot(index=\"DlyCalDt\", columns=\"Ticker\", values=\"DlyClose\")\n",
    "df_pivot = df_pivot[df_pivot.columns[:5]]\n",
    "\n",
    "returns = df_pivot.pct_change().dropna()\n",
    "\n",
    "df_pivot"
   ]
  },
  {
   "attachments": {},
   "cell_type": "markdown",
   "metadata": {},
   "source": [
    "## Lambdas and Comprehensions\n",
    "\n",
    "Before we get into optimisation, there are two constructs you'll need to know within Python. These are used all over the language (and in other programming languages as well).\n",
    "\n",
    "First up we've got `lambda`, or anonymous, functions. If you're in need of a function but don't want to spend time writing one, a lambda function is for you."
   ]
  },
  {
   "cell_type": "code",
   "execution_count": 25,
   "metadata": {},
   "outputs": [],
   "source": []
  },
  {
   "attachments": {},
   "cell_type": "markdown",
   "metadata": {},
   "source": [
    "Next is **comprehensions**. If lambdas are one-line functions then comprehensions are one-line for loops.\n"
   ]
  },
  {
   "cell_type": "code",
   "execution_count": 26,
   "metadata": {},
   "outputs": [],
   "source": []
  },
  {
   "attachments": {},
   "cell_type": "markdown",
   "metadata": {},
   "source": [
    "## Optimise with SciPy\n",
    "\n",
    "SciPy is a computational library for Python that goes beyond NumPy by adding lots of useful functions for scientific fields. One of the useful functions it has is called `minimize()`, which is used for solving optimisation problems across STEM. This function attempts to minimise some value given a set of input values. In our case, we will be trying to minimise the negative Sharpe Ratio (or maximising the Sharpe Ratio if you prefer!) by finding the optimal portfolio weights.\n",
    "\n",
    "Recall that Sharpe Ratio is a measure of risk-adjusted return. The higher the value, the higher return we get for the risk we put in.\n",
    "\n",
    "To work with `minimize()` we need a function. So let's define a function to calculate the negative Sharpe Ratio. It should accept weights as an argument, since this is the parameter we'll be optimising to get the Sharpe Ratio higher."
   ]
  },
  {
   "cell_type": "code",
   "execution_count": 27,
   "metadata": {},
   "outputs": [],
   "source": []
  },
  {
   "attachments": {},
   "cell_type": "markdown",
   "metadata": {},
   "source": [
    "Then we need to define the **bounds** and **constraints**, and the *intial weights*.\n",
    "\n",
    "The bounds restrict the values that `minimize()` will attempt to use for individual inputs (weights in our case). We'll need five weights, and weights should be greater than or equal to 0 and less than or equal to 1.\n",
    "\n",
    "The constraints restrict the possible solutions that `minimize()` can return. For example, in our solution, all the weights must sum to 1.0, such that our portfolio is complete. \n",
    "\n",
    "For the initial weights we'll start with a 1/N portfolio."
   ]
  },
  {
   "cell_type": "code",
   "execution_count": 28,
   "metadata": {},
   "outputs": [],
   "source": []
  },
  {
   "attachments": {},
   "cell_type": "markdown",
   "metadata": {},
   "source": [
    "## Backtesting Optimal Weights\n",
    "\n",
    "We now have the weights that maximise the Sharpe Ratio. Let's use these weights to see how our portfolio would have performed historically.\n",
    "\n",
    "### Exercise: Watch your back\n",
    "\n",
    "Use the `optimal_weights` to calculate new portfolio returns, and daily volatility. How do these annualised values compare to the 1/N portfolio we started with?"
   ]
  },
  {
   "cell_type": "code",
   "execution_count": 29,
   "metadata": {},
   "outputs": [],
   "source": [
    "## YOUR CODE GOES HERE"
   ]
  },
  {
   "attachments": {},
   "cell_type": "markdown",
   "metadata": {},
   "source": [
    "Next, plot the optimal weight portfolio cumulative returns and the initial equal weight cumulative returns together on a plot to see how we did compared to the benchmark."
   ]
  },
  {
   "cell_type": "code",
   "execution_count": null,
   "metadata": {},
   "outputs": [],
   "source": [
    "## YOUR CODE GOES HERE"
   ]
  }
 ],
 "metadata": {
  "kernelspec": {
   "display_name": "Python 3",
   "language": "python",
   "name": "python3"
  },
  "language_info": {
   "codemirror_mode": {
    "name": "ipython",
    "version": 3
   },
   "file_extension": ".py",
   "mimetype": "text/x-python",
   "name": "python",
   "nbconvert_exporter": "python",
   "pygments_lexer": "ipython3",
   "version": "3.12.1"
  }
 },
 "nbformat": 4,
 "nbformat_minor": 2
}
